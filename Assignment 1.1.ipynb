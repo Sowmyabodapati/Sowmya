{
  "nbformat": 4,
  "nbformat_minor": 0,
  "metadata": {
    "colab": {
      "provenance": [],
      "authorship_tag": "ABX9TyPIH0e8QQs4GkTBmFM9g3RT",
      "include_colab_link": true
    },
    "kernelspec": {
      "name": "python3",
      "display_name": "Python 3"
    },
    "language_info": {
      "name": "python"
    }
  },
  "cells": [
    {
      "cell_type": "markdown",
      "metadata": {
        "id": "view-in-github",
        "colab_type": "text"
      },
      "source": [
        "<a href=\"https://colab.research.google.com/github/Sowmyabodapati/Sowmya/blob/main/Assignment%201.1.ipynb\" target=\"_parent\"><img src=\"https://colab.research.google.com/assets/colab-badge.svg\" alt=\"Open In Colab\"/></a>"
      ]
    },
    {
      "cell_type": "markdown",
      "source": [
        "Hello,\n",
        "\n",
        "\n",
        "\n",
        "Find and read 20 interview questions for Data Types, Operators, Conditional Statements, Looping Statements, Functions.\n",
        "\n",
        "Data Types:\n",
        "\n",
        "What are the basic data types in Python?\n",
        "What is the difference between mutable and immutable data types?\n",
        "Explain the concept of typecasting in Python.\n",
        "How can you check the data type of a variable in Python?\n",
        "What is the None data type in Python and when is it used?\n",
        "Operators:\n",
        "\n",
        "What is the difference between the '==' and 'is' operators in Python?\n",
        "Explain the difference between the 'and' and 'or' logical operators.\n",
        "What is operator precedence and how is it determined in Python?\n",
        "How can you concatenate strings using the '+' operator in Python?\n",
        "What are ternary operators and how are they used in Python?\n",
        "Conditional Statements:\n",
        "\n",
        "Explain the syntax and usage of the if-else statement in Python.\n",
        "What is the purpose of the 'elif' statement in Python?\n",
        "How can you nest conditional statements in Python?\n",
        "Explain the difference between the '==', 'is', and 'in' operators in conditional statements.\n",
        "What is the purpose of the 'pass' statement in Python?\n",
        "Looping Statements:\n",
        "\n",
        "What is the difference between the 'while' and 'for' loops in Python?\n",
        "How can you terminate a loop prematurely using the 'break' statement?\n",
        "Explain the 'continue' statement and its usage in Python loops.\n",
        "How can you iterate over a sequence using the 'enumerate()' function?\n",
        "What is the purpose of the 'else' clause in a loop statement?\n",
        "These questions cover a range of topics related to data types, operators, conditional statements, looping statements, and functions. It's recommended to have a good understanding of these concepts before an interview.\n"
      ],
      "metadata": {
        "id": "yOvnD6siV8-B"
      }
    }
  ]
}