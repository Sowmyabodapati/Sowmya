{
  "metadata": {
    "language_info": {
      "codemirror_mode": {
        "name": "python",
        "version": 3
      },
      "file_extension": ".py",
      "mimetype": "text/x-python",
      "name": "python",
      "nbconvert_exporter": "python",
      "pygments_lexer": "ipython3",
      "version": "3.8"
    },
    "kernelspec": {
      "name": "python",
      "display_name": "Python (Pyodide)",
      "language": "python"
    }
  },
  "nbformat_minor": 4,
  "nbformat": 4,
  "cells": [
    {
      "cell_type": "code",
      "source": "class Point:\n    def __init__(self, x, y, z):\n        self.x = x\n        self.y = y\n        self.z = z\n\n    def sqSum(self):\n        return self.x**2 + self.y**2 + self.z**2\n",
      "metadata": {
        "trusted": true
      },
      "execution_count": 1,
      "outputs": []
    },
    {
      "cell_type": "code",
      "source": "class Calculator:\n    def __init__(self, num1, num2):\n        self.num1 = num1\n        self.num2 = num2\n    \n    def add(self):\n        return self.num1 + self.num2\n    \n    def subtract(self):\n        return self.num2 - self.num1\n    \n    def multiply(self):\n        return self.num1 * self.num2\n    \n    def divide(self):\n        return self.num2 / self.num1\n",
      "metadata": {
        "trusted": true
      },
      "execution_count": 2,
      "outputs": []
    },
    {
      "cell_type": "code",
      "source": "class Student:\n    def __init__(self):\n        self.__name = \"\"\n        self.__rollNumber = \"\"\n\n    def getName(self):\n        return self.__name\n\n    def setName(self, name):\n        self.__name = name\n\n    def getRollNumber(self):\n        return self.__rollNumber\n\n    def setRollNumber(self, rollNumber):\n        self.__rollNumber = rollNumber\n",
      "metadata": {
        "trusted": true
      },
      "execution_count": 3,
      "outputs": []
    },
    {
      "cell_type": "code",
      "source": "class Account:\n    def __init__(self, title, balance):\n        self.title = title\n        self.balance = balance\n\nclass SavingsAccount(Account):\n    def __init__(self, title, balance, interestRate):\n        super().__init__(title, balance)\n        self.interestRate = interestRate\n",
      "metadata": {
        "trusted": true
      },
      "execution_count": 4,
      "outputs": []
    },
    {
      "cell_type": "code",
      "source": "class Account:\n    def __init__(self, title=None, balance=0):\n        self.title = title\n        self.balance = balance\n    \n    def withdrawal(self, amount):\n        self.balance -= amount\n\n    def deposit(self, amount):\n        self.balance += amount\n    \n    def getBalance(self):\n        return self.balance\n\nclass SavingsAccount(Account):\n    def __init__(self, title=None, balance=0, interestRate=0):\n        super().__init__(title, balance)\n        self.interestRate = interestRate\n    \n    def interestAmount(self):\n        return self.balance * (self.interestRate / 100)\n",
      "metadata": {
        "trusted": true
      },
      "execution_count": 6,
      "outputs": []
    }
  ]
}