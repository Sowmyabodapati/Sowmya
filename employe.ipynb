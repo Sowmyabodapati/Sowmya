{
  "metadata": {
    "language_info": {
      "codemirror_mode": {
        "name": "python",
        "version": 3
      },
      "file_extension": ".py",
      "mimetype": "text/x-python",
      "name": "python",
      "nbconvert_exporter": "python",
      "pygments_lexer": "ipython3",
      "version": "3.8"
    },
    "kernelspec": {
      "name": "python",
      "display_name": "Python (Pyodide)",
      "language": "python"
    }
  },
  "nbformat_minor": 4,
  "nbformat": 4,
  "cells": [
    {
      "cell_type": "code",
      "source": "import json\n\nclass Employee:\n    def __init__(self, name, dob, height, city, state):\n        self.name = name\n        self.dob = dob\n        self.height = height\n        self.city = city\n        self.state = state\n\n# Read JSON file\nwith open('employee.json') as f:\n    data = json.load(f)\n\n# Create a list to store employee objects\nemployees = []\n\n# Iterate over the employee data and create Employee objects\nfor employee_data in data['employees']:\n    name = employee_data['Name']\n    dob = employee_data['DOB']\n    height = employee_data['Height']\n    city = employee_data['City']\n    state = employee_data['State']\n    employee = Employee(name, dob, height, city, state)\n    employees.append(employee)\n\n# Print the list of Employee objects\nfor employee in employees:\n    print(f\"Name: {employee.name}\")\n    print(f\"DOB: {employee.dob}\")\n    print(f\"Height: {employee.height}\")\n    print(f\"City: {employee.city}\")\n    print(f\"State: {employee.state}\")\n    print()\n",
      "metadata": {
        "trusted": true
      },
      "execution_count": 1,
      "outputs": [
        {
          "name": "stdout",
          "text": "Name: John Doe\nDOB: 1990-05-15\nHeight: 175\nCity: New York\nState: New York\n\nName: Jane Smith\nDOB: 1988-10-20\nHeight: 165\nCity: Los Angeles\nState: California\n\nName: Mike Johnson\nDOB: 1995-03-08\nHeight: 180\nCity: Chicago\nState: Illinois\n\nName: Emily Brown\nDOB: 1992-07-25\nHeight: 170\nCity: Houston\nState: Texas\n\nName: David Wilson\nDOB: 1985-12-12\nHeight: 185\nCity: Philadelphia\nState: Pennsylvania\n\n",
          "output_type": "stream"
        }
      ]
    },
    {
      "cell_type": "code",
      "source": "",
      "metadata": {},
      "execution_count": null,
      "outputs": []
    }
  ]
}