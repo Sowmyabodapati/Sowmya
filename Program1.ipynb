{
  "metadata": {
    "language_info": {
      "codemirror_mode": {
        "name": "python",
        "version": 3
      },
      "file_extension": ".py",
      "mimetype": "text/x-python",
      "name": "python",
      "nbconvert_exporter": "python",
      "pygments_lexer": "ipython3",
      "version": "3.8"
    },
    "kernelspec": {
      "name": "python",
      "display_name": "Python (Pyodide)",
      "language": "python"
    }
  },
  "nbformat_minor": 4,
  "nbformat": 4,
  "cells": [
    {
      "cell_type": "code",
      "source": "def find_pairs(array, target_sum): \n\n    pairs = [] \n\n    seen = set() \n\n  \n\n    for num in array: \n\n        complement = target_sum - num \n\n  \n\n        if complement in seen: \n\n            pairs.append((num, complement)) \n\n  \n\n        seen.add(num) \n\n  \n\n    return pairs \n\nnumbers = [1, 2, 3, 4, 5] \n\ntarget = 6 \nresult = find_pairs(numbers, target) \n\n  \n\nprint(\"Pairs with sum\", target, \":\") \n\nfor pair in result: \n\n    print(pair) \n\n",
      "metadata": {
        "trusted": true
      },
      "execution_count": 5,
      "outputs": [
        {
          "name": "stdout",
          "text": "Pairs with sum 6 :\n(4, 2)\n(5, 1)\n",
          "output_type": "stream"
        }
      ]
    },
    {
      "cell_type": "code",
      "source": "def reverse_array(arr): \n\n    left = 0 \n\n    right = len(arr) - 1 \n\n  \n\n    while left < right: \n\n        arr[left], arr[right] = arr[right], arr[left] \n\n        left += 1 \n\n        right -= 1 \n\n  \n\n    return arr \n\n\nnumbers = [1, 2, 3, 4, 5] \n\n  \n\nprint(\"Original array:\", numbers) \n\n  \n\nreverse_array(numbers) \n\n \n\nprint(\"Reversed array:\", numbers) \n",
      "metadata": {
        "trusted": true
      },
      "execution_count": 7,
      "outputs": [
        {
          "name": "stdout",
          "text": "Original array: [1, 2, 3, 4, 5]\nReversed array: [5, 4, 3, 2, 1]\n",
          "output_type": "stream"
        }
      ]
    },
    {
      "cell_type": "code",
      "source": "def are_rotations(str1, str2): \n\n    if len(str1) != len(str2): \n\n        return False \n\n  \n\n    concatenated = str1 + str1 \n\n    if str2 in concatenated: \n\n        return True \n\n  \n\n    return False \n\nstring1 = \"rotation\" \n\nstring2 = \"tionrota\" \n\n  \n\nif are_rotations(string1, string2): \n\n    print(f\"{string1} and {string2} are rotations of each other.\") \n\nelse: \n\n    print(f\"{string1} and {string2} are not rotations of each other.\")",
      "metadata": {
        "trusted": true
      },
      "execution_count": 13,
      "outputs": [
        {
          "name": "stdout",
          "text": "rotation and tionrota are rotations of each other.\n",
          "output_type": "stream"
        }
      ]
    },
    {
      "cell_type": "code",
      "source": "def find_first_non_repeated_char(string): \n\n    char_count = {} \n\nfor char in string: \n\n        char_count[char] = char_count.get(char, 0) + 1 \nfor char in string: \n\n        if char_count[char] == 1: \n\n            return char \n\n  \n\n     If no non-repeated character found, return None or any other desired value \n\n    return None \n\n\ninput_string = \"abracadabra\" \n\n  \n\nresult = find_first_non_repeated_char(input_string) \n\n  \nprint(\"The first non-repeated character is:\", result) \n\nprint(\"No non-repeated character found in the string.\")",
      "metadata": {
        "trusted": true
      },
      "execution_count": null,
      "outputs": []
    },
    {
      "cell_type": "code",
      "source": "\ndef tower_of_hanoi(n, source, destination, auxiliary): \n\n    if n == 1: \n\n        print(f\"Move disk 1 from {source} to {destination}\") \n\n        return \n\n  \n\n    tower_of_hanoi(n - 1, source, auxiliary, destination) \n\n    print(f\"Move disk {n} from {source} to {destination}\") \n\n    tower_of_hanoi(n - 1, auxiliary, destination, source) \nnum_disks = 3 \n\ntower_of_hanoi(num_disks, 'A', 'C', 'B') ",
      "metadata": {
        "trusted": true
      },
      "execution_count": 23,
      "outputs": [
        {
          "name": "stdout",
          "text": "Move disk 1 from A to C\nMove disk 2 from A to B\nMove disk 1 from C to B\nMove disk 3 from A to C\nMove disk 1 from B to A\nMove disk 2 from B to C\nMove disk 1 from A to C\n",
          "output_type": "stream"
        }
      ]
    },
    {
      "cell_type": "code",
      "source": "def postfix_to_prefix(expression): \n\n    stack = [] \n\n  \n\n    for char in expression: \n\n        if char.isalnum(): \n\n            stack.append(char) \n\n        else: \n\n            operand2 = stack.pop() \n\n            operand1 = stack.pop() \n\n            prefix_expr = char + operand1 + operand2 \n\n            stack.append(prefix_expr) \n\n  \n\n    return stack[-1] \n\npostfix_expression = \"23*4+\" \n\n  \n\nprefix_expression = postfix_to_prefix(postfix_expression) \n\n  \n\nprint(\"Prefix expression:\", prefix_expression)",
      "metadata": {
        "trusted": true
      },
      "execution_count": 24,
      "outputs": [
        {
          "name": "stdout",
          "text": "Prefix expression: +*234\n",
          "output_type": "stream"
        }
      ]
    },
    {
      "cell_type": "code",
      "source": "def prefix_to_infix(expression): \n\n    stack = [] \n\n  \n\n    for char in reversed(expression): \n\n        if char.isalnum(): \n\n            stack.append(char) \n\n        else: \n\n            operand1 = stack.pop() \n\n            operand2 = stack.pop() \n\n            infix_expr = \"(\" + operand1 + char + operand2 + \")\" \n\n            stack.append(infix_expr) \n\n  \n\n    return stack[-1] \n\nprefix_expression = \"+*23*456\" \n\n  \n\ninfix_expression = prefix_to_infix(prefix_expression) \n\nprint(\"Infix expression:\", infix_expression)\n",
      "metadata": {
        "trusted": true
      },
      "execution_count": 25,
      "outputs": [
        {
          "name": "stdout",
          "text": "Infix expression: ((2*3)+(4*5))\n",
          "output_type": "stream"
        }
      ]
    },
    {
      "cell_type": "code",
      "source": "def check_brackets(code): \n\n    stack = [] \n\n  \n\n    opening_brackets = ['(', '[', '{'] \n\n    closing_brackets = [')', ']', '}'] \n\n    bracket_pairs = {'(': ')', '[': ']', '{': '}'} \n\n  \n\n    for char in code: \n\n        if char in opening_brackets: \n\n            stack.append(char) \n\n        elif char in closing_brackets: \n\n            if not stack or bracket_pairs[stack[-1]] != char: \n\n                return False \n\n            stack.pop() \n\n  \n\n    return len(stack) == 0 \n\ncode_snippet = \"def hello_world():\\n    print('Hello, World!')\" \n\n  \n\nbrackets_matched = check_brackets(code_snippet) \n\n  \n\nif brackets_matched: \n\n    print(\"All brackets are closed properly.\") \n\nelse: \n\n    print(\"Mismatched or unclosed brackets found.\") \n",
      "metadata": {
        "trusted": true
      },
      "execution_count": 26,
      "outputs": [
        {
          "name": "stdout",
          "text": "All brackets are closed properly.\n",
          "output_type": "stream"
        }
      ]
    },
    {
      "cell_type": "code",
      "source": "def reverse_stack(stack): \n\n    if not stack: \n\n        return \n\n  \n\n    # Remove the top element from the stack \n\n    top = stack.pop() \n\n  \n\n    # Reverse the remaining stack \n\n    reverse_stack(stack) \n\n  \n\n    # Insert the top element at the bottom of the reversed stack \n\n    insert_at_bottom(stack, top) \n\n  \n\n  \n\ndef insert_at_bottom(stack, item): \n\n    if not stack: \n\n        stack.append(item) \n\n        return \n\n  \n\n    top = stack.pop() \n\n  \n\n    # Recursively insert the item at the bottom \n\n    insert_at_bottom(stack, item) \n\n  \n\n    stack.append(top)\n    \n    stack = [1, 2, 3, 4, 5] \n",
      "metadata": {
        "trusted": true
      },
      "execution_count": 35,
      "outputs": []
    },
    {
      "cell_type": "code",
      "source": "def find_smallest_number(stack): \n\n    if not stack: \n\n        return None \n\n  \n\n     Set the initial minimum to the first element in the stack \n\n    min_number = stack[-1] \n\n  \n\n     Iterate through the stack and update the minimum if a smaller number is found \n\n    for num in stack: \n\n        if num < min_number: \n\n            min_number = num \n\n  \n    return min_number \n\n\nstack = [5, 2, 9, 1, 7] \n\nprint(\"Stack:\", stack) \n\n  \n\nsmallest_number = find_smallest_number(stack) \n\n  \n\nif smallest_number is not None: \n\n    print(\"Smallest number in the stack:\", smallest_number) \n\nelse: \n\n    print(\"Stack is empty.\") ",
      "metadata": {
        "trusted": true
      },
      "execution_count": null,
      "outputs": []
    },
    {
      "cell_type": "code",
      "source": "",
      "metadata": {},
      "execution_count": null,
      "outputs": []
    }
  ]
}