{
  "metadata": {
    "language_info": {
      "codemirror_mode": {
        "name": "python",
        "version": 3
      },
      "file_extension": ".py",
      "mimetype": "text/x-python",
      "name": "python",
      "nbconvert_exporter": "python",
      "pygments_lexer": "ipython3",
      "version": "3.8"
    },
    "kernelspec": {
      "name": "python",
      "display_name": "Python (Pyodide)",
      "language": "python"
    }
  },
  "nbformat_minor": 4,
  "nbformat": 4,
  "cells": [
    {
      "cell_type": "code",
      "source": "class Dog:\n    def __init__(self, name, age, coat_color):\n        self.name = name\n        self.age = age\n        self.coat_color = coat_color\n\n    def description(self):\n        print(f\"Name: {self.name}, Age: {self.age}\")\n\n    def get_info(self):\n        print(f\"Coat color: {self.coat_color}\")\n\n\nclass JackRussellTerrier(Dog):\n    def bark(self):\n        print(\"Barking: Woof! Woof!\")\n\n    def play_fetch(self):\n        print(\"Playing fetch with a ball.\")\n\n\nclass Bulldog(Dog):\n    def snore(self):\n        print(\"Zzzzz... (snoring)\")\n\n    def guard(self):\n        print(\"Guarding the house.\")\n\n\n\ndog1 = Dog(\"Max\", 3, \"Brown\")\ndog1.description()  \ndog1.get_info()     \n\ndog2 = JackRussellTerrier(\"Rocky\", 5, \"White and Brown\")\ndog2.description()  \ndog2.get_info()     \ndog2.bark()         \ndog2.play_fetch()   \n\ndog3 = Bulldog(\"Bella\", 4, \"Brindle\")\ndog3.description()  \ndog3.get_info()     \ndog3.snore()        \ndog3.guard()        \n",
      "metadata": {
        "trusted": true
      },
      "execution_count": 2,
      "outputs": [
        {
          "name": "stdout",
          "text": "Name: Max, Age: 3\nCoat color: Brown\nName: Rocky, Age: 5\nCoat color: White and Brown\nBarking: Woof! Woof!\nPlaying fetch with a ball.\nName: Bella, Age: 4\nCoat color: Brindle\nZzzzz... (snoring)\nGuarding the house.\n",
          "output_type": "stream"
        }
      ]
    },
    {
      "cell_type": "code",
      "source": "",
      "metadata": {},
      "execution_count": null,
      "outputs": []
    }
  ]
}